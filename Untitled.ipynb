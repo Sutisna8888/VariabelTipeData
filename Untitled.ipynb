{
 "cells": [
  {
   "cell_type": "markdown",
   "id": "58202d8c",
   "metadata": {},
   "source": [
    "<h1>variabel dan tipe data pyhton</h1><hr> \n",
    "<font color =\"blue\">Beberapa</font> aturan membuat variabel di <b>pyhton</b>:"
   ]
  },
  {
   "cell_type": "markdown",
   "id": "5e7b5501",
   "metadata": {},
   "source": [
    "<ol>\n",
    "    <li>Bersifat case sensitif => A != a</li>\n",
    "    <li>Harus diawali dengan huruf atau karakter _(underscore)</li>\n",
    "    <li>Tidak boleh menggunakan spasi</li>\n",
    "    <li>Boleh menggunakan angka</li>\n",
    "    \n",
    "</ol>"
   ]
  },
  {
   "cell_type": "code",
   "execution_count": 18,
   "id": "bc55a193",
   "metadata": {},
   "outputs": [
    {
     "name": "stdout",
     "output_type": "stream",
     "text": [
      "30\n",
      "30.5\n",
      "235\n",
      "True\n"
     ]
    }
   ],
   "source": [
    "data_int = 30\n",
    "data_float = 30.5\n",
    "data_string = \"235\"\n",
    "data_bool = True\n",
    "\n",
    "print(data_int)\n",
    "print(data_float)\n",
    "print(data_string)\n",
    "print(data_bool)\n"
   ]
  },
  {
   "cell_type": "markdown",
   "id": "2c0b10a3",
   "metadata": {},
   "source": [
    "Untuk mengetahui tipe data dari sebuah variabel gunakan command type"
   ]
  },
  {
   "cell_type": "code",
   "execution_count": 19,
   "id": "f907d2c9",
   "metadata": {},
   "outputs": [
    {
     "name": "stdout",
     "output_type": "stream",
     "text": [
      "<class 'int'>\n",
      "<class 'float'>\n",
      "<class 'str'>\n",
      "<class 'bool'>\n"
     ]
    }
   ],
   "source": [
    "print(type(data_int))\n",
    "print(type(data_float))\n",
    "print(type(data_string))\n",
    "print(type(data_bool))\n"
   ]
  },
  {
   "cell_type": "markdown",
   "id": "464af976",
   "metadata": {},
   "source": [
    "<font color =\"orange\">Pada pyhton terdapat proses</font> <b>CASTING</b> <font color =\"blue\">yaitu conversi dari sebuah tipe data ke tipe data yang lain yaitu dengan sintak</font> <b>tipe data_(name_variabel)</b>"
   ]
  },
  {
   "cell_type": "code",
   "execution_count": 20,
   "id": "d127f8d6",
   "metadata": {},
   "outputs": [
    {
     "name": "stdout",
     "output_type": "stream",
     "text": [
      "Nilai variabel data_int= 30\n",
      "30.0\n",
      "30\n",
      "True\n"
     ]
    }
   ],
   "source": [
    "int_to_float = float(data_int)\n",
    "int_to_string = str(data_int)\n",
    "int_to_bool = bool(data_int)\n",
    "\n",
    "print(\"Nilai variabel data_int=\",data_int)\n",
    "print(int_to_float)\n",
    "print(int_to_string)\n",
    "print(int_to_bool)"
   ]
  },
  {
   "cell_type": "code",
   "execution_count": 16,
   "id": "d5702ecd",
   "metadata": {},
   "outputs": [
    {
     "name": "stdout",
     "output_type": "stream",
     "text": [
      "Nilai variabel data_float= 30.5\n",
      "30\n",
      "30.5\n",
      "True\n"
     ]
    }
   ],
   "source": [
    "float_to_int = int(data_float)\n",
    "float_to_string = str(data_float)\n",
    "float_to_bool = bool(data_float)\n",
    "\n",
    "print(\"Nilai variabel data_float=\",data_float)\n",
    "print(float_to_int)\n",
    "print(float_to_string)\n",
    "print(float_to_bool)\n"
   ]
  },
  {
   "cell_type": "code",
   "execution_count": 9,
   "id": "d38b6366",
   "metadata": {},
   "outputs": [
    {
     "name": "stdout",
     "output_type": "stream",
     "text": [
      "Nilai variabel data_string= 235\n",
      "30\n",
      "30.5\n",
      "True\n"
     ]
    }
   ],
   "source": [
    "string_to_int = int(data_int)\n",
    "string_to_float = float(data_float)\n",
    "string_to_bool = bool(data_float)\n",
    "\n",
    "print(\"Nilai variabel data_string=\",data_string)\n",
    "print(string_to_int)\n",
    "print(string_to_float)\n",
    "print(string_to_bool)\n"
   ]
  },
  {
   "cell_type": "code",
   "execution_count": 11,
   "id": "c54618fe",
   "metadata": {},
   "outputs": [
    {
     "name": "stdout",
     "output_type": "stream",
     "text": [
      "Nilai variabel data_bool= True\n",
      "30\n",
      "30.5\n",
      "235\n"
     ]
    }
   ],
   "source": [
    "bool_to_int = int(data_int)\n",
    "bool_to_float = float(data_float)\n",
    "bool_to_string =str(data_string)\n",
    "\n",
    "print(\"Nilai variabel data_bool=\",data_bool)\n",
    "print(bool_to_int)\n",
    "print(bool_to_float)\n",
    "print(bool_to_string)"
   ]
  },
  {
   "cell_type": "code",
   "execution_count": 26,
   "id": "dd0be6c6",
   "metadata": {},
   "outputs": [
    {
     "name": "stdout",
     "output_type": "stream",
     "text": [
      "masukan bilangan ke 1 =  45\n",
      "masukan bilangan ke 2 =  12\n",
      "hasil penjumlah = 57\n",
      "hasil pembagian = 3.75\n",
      "hasil perkalian = 540\n",
      "hasil pengurangan = 33\n"
     ]
    }
   ],
   "source": [
    "bil1 = int(input(\"masukan bilangan ke 1 =  \"))\n",
    "bil2 = int(input(\"masukan bilangan ke 2 =  \"))\n",
    "hasil_tambah = bil1 + bil2\n",
    "hasil_bagi = bil1 / bil2\n",
    "hasil_kali = bil1 * bil2\n",
    "hasil_kurang = bil1 - bil2\n",
    "\n",
    "print(\"hasil penjumlah =\",hasil_tambah)\n",
    "print(\"hasil pembagian =\",hasil_bagi)\n",
    "print(\"hasil perkalian =\",hasil_kali)\n",
    "print(\"hasil pengurangan =\",hasil_kurang)\n",
    "\n"
   ]
  }
 ],
 "metadata": {
  "kernelspec": {
   "display_name": "Python 3 (ipykernel)",
   "language": "python",
   "name": "python3"
  },
  "language_info": {
   "codemirror_mode": {
    "name": "ipython",
    "version": 3
   },
   "file_extension": ".py",
   "mimetype": "text/x-python",
   "name": "python",
   "nbconvert_exporter": "python",
   "pygments_lexer": "ipython3",
   "version": "3.9.12"
  }
 },
 "nbformat": 4,
 "nbformat_minor": 5
}
